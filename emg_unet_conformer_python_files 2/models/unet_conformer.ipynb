{
 "cells": [
  {
   "cell_type": "code",
   "execution_count": null,
   "metadata": {
    "vscode": {
     "languageId": "plaintext"
    }
   },
   "outputs": [],
   "source": [
    " #Install required packages\n",
    "!pip install tensorflow>=2.8.0 numpy>=1.19.5 pandas>=1.3.0 scikit-learn>=0.24.2 matplotlib>=3.4.3 scipy>=1.7.1 tensorboard>=2.8.0 tqdm>=4.62.3 pyyaml>=6.0\n"
   ]
  },
  {
   "cell_type": "code",
   "execution_count": null,
   "metadata": {
    "vscode": {
     "languageId": "plaintext"
    }
   },
   "outputs": [],
   "source": []
  }
 ],
 "metadata": {
  "language_info": {
   "name": "python"
  }
 },
 "nbformat": 4,
 "nbformat_minor": 2
}
